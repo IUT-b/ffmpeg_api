{
 "cells": [
  {
   "cell_type": "code",
   "execution_count": 2,
   "id": "cc90d81b-63c6-45cd-8dc3-7b030ce48edd",
   "metadata": {},
   "outputs": [],
   "source": [
    "import os\n",
    "\n",
    "import cv2\n",
    "import requests\n",
    "from flask import jsonify\n",
    "from google.oauth2 import service_account"
   ]
  },
  {
   "cell_type": "code",
   "execution_count": 35,
   "id": "fae20fd9-fbdb-44d4-8739-ef00601a658e",
   "metadata": {},
   "outputs": [],
   "source": [
    "url = \"https://iut-b.main.jp/up\"\n",
    "new_video_path=\"movie_edited.mp4\""
   ]
  },
  {
   "cell_type": "code",
   "execution_count": 26,
   "id": "7baa7e9e-61ae-4e81-a0d2-700716a49ac3",
   "metadata": {},
   "outputs": [],
   "source": [
    "f = open(new_video_path, \"rb\")"
   ]
  },
  {
   "cell_type": "code",
   "execution_count": 82,
   "id": "d7fb1b71-0fa4-4507-b2af-6a8e4fcc241d",
   "metadata": {},
   "outputs": [],
   "source": [
    "files = {\"file\": open(new_video_path, \"rb\")}"
   ]
  },
  {
   "cell_type": "code",
   "execution_count": 83,
   "id": "fa663425-89bc-416b-a2a3-8514d5a4ea1b",
   "metadata": {},
   "outputs": [],
   "source": [
    "res = requests.post(url, files=files)    "
   ]
  },
  {
   "cell_type": "code",
   "execution_count": 84,
   "id": "b61cd987-1d47-4fe6-bef3-88d94c71e9fb",
   "metadata": {},
   "outputs": [
    {
     "data": {
      "text/plain": [
       "<Response [200]>"
      ]
     },
     "execution_count": 84,
     "metadata": {},
     "output_type": "execute_result"
    }
   ],
   "source": [
    "res"
   ]
  },
  {
   "cell_type": "code",
   "execution_count": 50,
   "id": "6a3bf319-5946-4798-9a3e-8205473e1787",
   "metadata": {},
   "outputs": [],
   "source": [
    "f.close()"
   ]
  },
  {
   "cell_type": "code",
   "execution_count": null,
   "id": "28377d60-25ef-4756-b7a9-fb6e90663ba4",
   "metadata": {},
   "outputs": [],
   "source": [
    "        tmpdir = tempfile.mkdtemp()\n",
    "        VIDEOS_DIR = tmpdir+'/data/video/'\n",
    "        MUSIC_DIR = tmpdir+'/data/music/'"
   ]
  },
  {
   "cell_type": "code",
   "execution_count": 1,
   "id": "199a3005-bff0-4b74-bd94-54585732a309",
   "metadata": {},
   "outputs": [],
   "source": [
    "import tempfile "
   ]
  },
  {
   "cell_type": "code",
   "execution_count": 2,
   "id": "d9cdaa7c-dc8e-4919-a673-9c669b682c2d",
   "metadata": {},
   "outputs": [],
   "source": [
    "tmpdir = tempfile.mkdtemp()"
   ]
  },
  {
   "cell_type": "code",
   "execution_count": 3,
   "id": "e7976228-eb08-4315-87c3-a987fcc0bd0e",
   "metadata": {},
   "outputs": [
    {
     "data": {
      "text/plain": [
       "'C:\\\\Users\\\\bte\\\\AppData\\\\Local\\\\Temp\\\\tmpcuszosaa'"
      ]
     },
     "execution_count": 3,
     "metadata": {},
     "output_type": "execute_result"
    }
   ],
   "source": [
    "tmpdir"
   ]
  },
  {
   "cell_type": "code",
   "execution_count": null,
   "id": "d98d5fd1-43a6-4208-ab4e-7bfa78f8724b",
   "metadata": {},
   "outputs": [],
   "source": []
  },
  {
   "cell_type": "code",
   "execution_count": null,
   "id": "54bf75d2-eebe-4e5f-9d69-e2bfa93e49ab",
   "metadata": {},
   "outputs": [],
   "source": []
  },
  {
   "cell_type": "code",
   "execution_count": null,
   "id": "dcf1004d-37c5-426f-91dc-d13d6278aac7",
   "metadata": {},
   "outputs": [],
   "source": [
    "music_path=os.path.join(MUSIC_DIR, music_name)"
   ]
  }
 ],
 "metadata": {
  "kernelspec": {
   "display_name": "Python 3 (ipykernel)",
   "language": "python",
   "name": "python3"
  },
  "language_info": {
   "codemirror_mode": {
    "name": "ipython",
    "version": 3
   },
   "file_extension": ".py",
   "mimetype": "text/x-python",
   "name": "python",
   "nbconvert_exporter": "python",
   "pygments_lexer": "ipython3",
   "version": "3.10.1"
  }
 },
 "nbformat": 4,
 "nbformat_minor": 5
}
